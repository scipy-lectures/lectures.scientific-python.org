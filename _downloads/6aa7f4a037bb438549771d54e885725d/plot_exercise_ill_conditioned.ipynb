{
  "cells": [
    {
      "cell_type": "markdown",
      "metadata": {},
      "source": [
        "\n# Alternating optimization\n\nThe challenge here is that Hessian of the problem is a very\nill-conditioned matrix. This can easily be seen, as the Hessian of the\nfirst term in simply 2 * K.T @ K. Thus the conditioning of the\nproblem can be judged from looking at the conditioning of K.\n"
      ]
    },
    {
      "cell_type": "code",
      "execution_count": null,
      "metadata": {
        "collapsed": false
      },
      "outputs": [],
      "source": [
        "import time\n\nimport numpy as np\nimport scipy as sp\nimport matplotlib.pyplot as plt\n\nrng = np.random.default_rng(27446968)\n\nK = rng.normal(size=(100, 100))\n\n\ndef f(x):\n    return np.sum((K @ (x - 1)) ** 2) + np.sum(x**2) ** 2\n\n\ndef f_prime(x):\n    return 2 * K.T @ K @ (x - 1) + 4 * np.sum(x**2) * x\n\n\ndef hessian(x):\n    H = 2 * K.T @ K + 4 * 2 * x * x[:, np.newaxis]\n    return H + 4 * np.eye(H.shape[0]) * np.sum(x**2)"
      ]
    },
    {
      "cell_type": "markdown",
      "metadata": {},
      "source": [
        "Some pretty plotting\n\n"
      ]
    },
    {
      "cell_type": "code",
      "execution_count": null,
      "metadata": {
        "collapsed": false
      },
      "outputs": [],
      "source": [
        "plt.figure(1)\nplt.clf()\nZ = X, Y = np.mgrid[-1.5:1.5:100j, -1.1:1.1:100j]\n# Complete in the additional dimensions with zeros\nZ = np.reshape(Z, (2, -1)).copy()\nZ.resize((100, Z.shape[-1]))\nZ = np.apply_along_axis(f, 0, Z)\nZ = np.reshape(Z, X.shape)\nplt.imshow(Z.T, cmap=plt.cm.gray_r, extent=[-1.5, 1.5, -1.1, 1.1], origin=\"lower\")\nplt.contour(X, Y, Z, cmap=plt.cm.gnuplot)\n\n# A reference but slow solution:\nt0 = time.time()\nx_ref = sp.optimize.minimize(f, K[0], method=\"Powell\").x\nprint(f\"     Powell: time {time.time() - t0:.2f}s\")\nf_ref = f(x_ref)\n\n# Compare different approaches\nt0 = time.time()\nx_bfgs = sp.optimize.minimize(f, K[0], method=\"BFGS\").x\nprint(\n    f\"       BFGS: time {time.time() - t0:.2f}s, x error {np.sqrt(np.sum((x_bfgs - x_ref) ** 2)):.2f}, f error {f(x_bfgs) - f_ref:.2f}\"\n)\n\nt0 = time.time()\nx_l_bfgs = sp.optimize.minimize(f, K[0], method=\"L-BFGS-B\").x\nprint(\n    f\"     L-BFGS: time {time.time() - t0:.2f}s, x error {np.sqrt(np.sum((x_l_bfgs - x_ref) ** 2)):.2f}, f error {f(x_l_bfgs) - f_ref:.2f}\"\n)\n\n\nt0 = time.time()\nx_bfgs = sp.optimize.minimize(f, K[0], jac=f_prime, method=\"BFGS\").x\nprint(\n    f\"  BFGS w f': time {time.time() - t0:.2f}s, x error {np.sqrt(np.sum((x_bfgs - x_ref) ** 2)):.2f}, f error {f(x_bfgs) - f_ref:.2f}\"\n)\n\nt0 = time.time()\nx_l_bfgs = sp.optimize.minimize(f, K[0], jac=f_prime, method=\"L-BFGS-B\").x\nprint(\n    f\"L-BFGS w f': time {time.time() - t0:.2f}s, x error {np.sqrt(np.sum((x_l_bfgs - x_ref) ** 2)):.2f}, f error {f(x_l_bfgs) - f_ref:.2f}\"\n)\n\nt0 = time.time()\nx_newton = sp.optimize.minimize(\n    f, K[0], jac=f_prime, hess=hessian, method=\"Newton-CG\"\n).x\nprint(\n    f\"     Newton: time {time.time() - t0:.2f}s, x error {np.sqrt(np.sum((x_newton - x_ref) ** 2)):.2f}, f error {f(x_newton) - f_ref:.2f}\"\n)\n\nplt.show()"
      ]
    }
  ],
  "metadata": {
    "kernelspec": {
      "display_name": "Python 3",
      "language": "python",
      "name": "python3"
    },
    "language_info": {
      "codemirror_mode": {
        "name": "ipython",
        "version": 3
      },
      "file_extension": ".py",
      "mimetype": "text/x-python",
      "name": "python",
      "nbconvert_exporter": "python",
      "pygments_lexer": "ipython3",
      "version": "3.11.8"
    }
  },
  "nbformat": 4,
  "nbformat_minor": 0
}