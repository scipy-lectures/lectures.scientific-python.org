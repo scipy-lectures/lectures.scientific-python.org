{
  "cells": [
    {
      "cell_type": "markdown",
      "metadata": {},
      "source": [
        "\n# Plotting simple quantities of a pandas dataframe\n\nThis example loads from a CSV file data with mixed numerical and\ncategorical entries, and plots a few quantities, separately for females\nand males, thanks to the pandas integrated plotting tool (that uses\nmatplotlib behind the scene).\n\nSee http://pandas.pydata.org/pandas-docs/stable/visualization.html\n"
      ]
    },
    {
      "cell_type": "code",
      "execution_count": null,
      "metadata": {
        "collapsed": false
      },
      "outputs": [],
      "source": [
        "import pandas\n\ndata = pandas.read_csv(\"brain_size.csv\", sep=\";\", na_values=\".\")\n\n# Box plots of different columns for each gender\ngroupby_gender = data.groupby(\"Gender\")\ngroupby_gender.boxplot(column=[\"FSIQ\", \"VIQ\", \"PIQ\"])\n\nfrom pandas import plotting\n\n# Scatter matrices for different columns\nplotting.scatter_matrix(data[[\"Weight\", \"Height\", \"MRI_Count\"]])\nplotting.scatter_matrix(data[[\"PIQ\", \"VIQ\", \"FSIQ\"]])\n\nimport matplotlib.pyplot as plt\n\nplt.show()"
      ]
    }
  ],
  "metadata": {
    "kernelspec": {
      "display_name": "Python 3",
      "language": "python",
      "name": "python3"
    },
    "language_info": {
      "codemirror_mode": {
        "name": "ipython",
        "version": 3
      },
      "file_extension": ".py",
      "mimetype": "text/x-python",
      "name": "python",
      "nbconvert_exporter": "python",
      "pygments_lexer": "ipython3",
      "version": "3.11.8"
    }
  },
  "nbformat": 4,
  "nbformat_minor": 0
}