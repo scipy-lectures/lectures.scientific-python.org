{
  "cells": [
    {
      "cell_type": "markdown",
      "metadata": {},
      "source": [
        "\n# Tutorial Diagrams\n\nThis script plots the flow-charts used in the scikit-learn tutorials.\n"
      ]
    },
    {
      "cell_type": "code",
      "execution_count": null,
      "metadata": {
        "collapsed": false
      },
      "outputs": [],
      "source": [
        "import numpy as np\nimport matplotlib.pyplot as plt\nfrom matplotlib.patches import Circle, Rectangle, Polygon, Arrow, FancyArrow\n\n\ndef create_base(box_bg=\"#CCCCCC\", arrow1=\"#88CCFF\", arrow2=\"#88FF88\", supervised=True):\n    fig = plt.figure(figsize=(9, 6), facecolor=\"w\")\n    ax = plt.axes((0, 0, 1, 1), xticks=[], yticks=[], frameon=False)\n    ax.set_xlim(0, 9)\n    ax.set_ylim(0, 6)\n\n    patches = [\n        Rectangle((0.3, 3.6), 1.5, 1.8, zorder=1, fc=box_bg),\n        Rectangle((0.5, 3.8), 1.5, 1.8, zorder=2, fc=box_bg),\n        Rectangle((0.7, 4.0), 1.5, 1.8, zorder=3, fc=box_bg),\n        Rectangle((2.9, 3.6), 0.2, 1.8, fc=box_bg),\n        Rectangle((3.1, 3.8), 0.2, 1.8, fc=box_bg),\n        Rectangle((3.3, 4.0), 0.2, 1.8, fc=box_bg),\n        Rectangle((0.3, 0.2), 1.5, 1.8, fc=box_bg),\n        Rectangle((2.9, 0.2), 0.2, 1.8, fc=box_bg),\n        Circle((5.5, 3.5), 1.0, fc=box_bg),\n        Polygon([[5.5, 1.7], [6.1, 1.1], [5.5, 0.5], [4.9, 1.1]], fc=box_bg),\n        FancyArrow(\n            2.3, 4.6, 0.35, 0, fc=arrow1, width=0.25, head_width=0.5, head_length=0.2\n        ),\n        FancyArrow(\n            3.75, 4.2, 0.5, -0.2, fc=arrow1, width=0.25, head_width=0.5, head_length=0.2\n        ),\n        FancyArrow(\n            5.5, 2.4, 0, -0.4, fc=arrow1, width=0.25, head_width=0.5, head_length=0.2\n        ),\n        FancyArrow(\n            2.0, 1.1, 0.5, 0, fc=arrow2, width=0.25, head_width=0.5, head_length=0.2\n        ),\n        FancyArrow(\n            3.3, 1.1, 1.3, 0, fc=arrow2, width=0.25, head_width=0.5, head_length=0.2\n        ),\n        FancyArrow(\n            6.2, 1.1, 0.8, 0, fc=arrow2, width=0.25, head_width=0.5, head_length=0.2\n        ),\n    ]\n\n    if supervised:\n        patches += [\n            Rectangle((0.3, 2.4), 1.5, 0.5, zorder=1, fc=box_bg),\n            Rectangle((0.5, 2.6), 1.5, 0.5, zorder=2, fc=box_bg),\n            Rectangle((0.7, 2.8), 1.5, 0.5, zorder=3, fc=box_bg),\n            FancyArrow(\n                2.3, 2.9, 2.0, 0, fc=arrow1, width=0.25, head_width=0.5, head_length=0.2\n            ),\n            Rectangle((7.3, 0.85), 1.5, 0.5, fc=box_bg),\n        ]\n    else:\n        patches += [Rectangle((7.3, 0.2), 1.5, 1.8, fc=box_bg)]\n\n    for p in patches:\n        ax.add_patch(p)\n\n    plt.text(\n        1.45,\n        4.9,\n        \"Training\\nText,\\nDocuments,\\nImages,\\netc.\",\n        ha=\"center\",\n        va=\"center\",\n        fontsize=14,\n    )\n\n    plt.text(3.6, 4.9, \"Feature\\nVectors\", ha=\"left\", va=\"center\", fontsize=14)\n\n    plt.text(\n        5.5, 3.5, \"Machine\\nLearning\\nAlgorithm\", ha=\"center\", va=\"center\", fontsize=14\n    )\n\n    plt.text(\n        1.05,\n        1.1,\n        \"New Text,\\nDocument,\\nImage,\\netc.\",\n        ha=\"center\",\n        va=\"center\",\n        fontsize=14,\n    )\n\n    plt.text(3.3, 1.7, \"Feature\\nVector\", ha=\"left\", va=\"center\", fontsize=14)\n\n    plt.text(5.5, 1.1, \"Predictive\\nModel\", ha=\"center\", va=\"center\", fontsize=12)\n\n    if supervised:\n        plt.text(1.45, 3.05, \"Labels\", ha=\"center\", va=\"center\", fontsize=14)\n\n        plt.text(8.05, 1.1, \"Expected\\nLabel\", ha=\"center\", va=\"center\", fontsize=14)\n        plt.text(\n            8.8, 5.8, \"Supervised Learning Model\", ha=\"right\", va=\"top\", fontsize=18\n        )\n\n    else:\n        plt.text(\n            8.05,\n            1.1,\n            \"Likelihood\\nor Cluster ID\\nor Better\\nRepresentation\",\n            ha=\"center\",\n            va=\"center\",\n            fontsize=12,\n        )\n        plt.text(\n            8.8, 5.8, \"Unsupervised Learning Model\", ha=\"right\", va=\"top\", fontsize=18\n        )\n\n\ndef plot_supervised_chart(annotate=False):\n    create_base(supervised=True)\n    if annotate:\n        fontdict = {\"color\": \"r\", \"weight\": \"bold\", \"size\": 14}\n        plt.text(\n            1.9,\n            4.55,\n            \"X = vec.fit_transform(input)\",\n            fontdict=fontdict,\n            rotation=20,\n            ha=\"left\",\n            va=\"bottom\",\n        )\n        plt.text(\n            3.7,\n            3.2,\n            \"clf.fit(X, y)\",\n            fontdict=fontdict,\n            rotation=20,\n            ha=\"left\",\n            va=\"bottom\",\n        )\n        plt.text(\n            1.7,\n            1.5,\n            \"X_new = vec.transform(input)\",\n            fontdict=fontdict,\n            rotation=20,\n            ha=\"left\",\n            va=\"bottom\",\n        )\n        plt.text(\n            6.1,\n            1.5,\n            \"y_new = clf.predict(X_new)\",\n            fontdict=fontdict,\n            rotation=20,\n            ha=\"left\",\n            va=\"bottom\",\n        )\n\n\ndef plot_unsupervised_chart():\n    create_base(supervised=False)\n\n\nif __name__ == \"__main__\":\n    plot_supervised_chart(False)\n    plot_supervised_chart(True)\n    plot_unsupervised_chart()\n    plt.show()"
      ]
    }
  ],
  "metadata": {
    "kernelspec": {
      "display_name": "Python 3",
      "language": "python",
      "name": "python3"
    },
    "language_info": {
      "codemirror_mode": {
        "name": "ipython",
        "version": 3
      },
      "file_extension": ".py",
      "mimetype": "text/x-python",
      "name": "python",
      "nbconvert_exporter": "python",
      "pygments_lexer": "ipython3",
      "version": "3.11.8"
    }
  },
  "nbformat": 4,
  "nbformat_minor": 0
}