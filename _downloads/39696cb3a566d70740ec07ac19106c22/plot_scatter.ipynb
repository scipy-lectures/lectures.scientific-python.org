{
  "cells": [
    {
      "cell_type": "markdown",
      "metadata": {},
      "source": [
        "\n# Plotting a scatter of points\n\nA simple example showing how to plot a scatter of points with matplotlib.\n"
      ]
    },
    {
      "cell_type": "code",
      "execution_count": null,
      "metadata": {
        "collapsed": false
      },
      "outputs": [],
      "source": [
        "import numpy as np\nimport matplotlib.pyplot as plt\n\nn = 1024\nrng = np.random.default_rng()\nX = rng.normal(0, 1, n)\nY = rng.normal(0, 1, n)\nT = np.arctan2(Y, X)\n\nplt.axes([0.025, 0.025, 0.95, 0.95])\nplt.scatter(X, Y, s=75, c=T, alpha=0.5)\n\nplt.xlim(-1.5, 1.5)\nplt.xticks([])\nplt.ylim(-1.5, 1.5)\nplt.yticks([])\n\nplt.show()"
      ]
    }
  ],
  "metadata": {
    "kernelspec": {
      "display_name": "Python 3",
      "language": "python",
      "name": "python3"
    },
    "language_info": {
      "codemirror_mode": {
        "name": "ipython",
        "version": 3
      },
      "file_extension": ".py",
      "mimetype": "text/x-python",
      "name": "python",
      "nbconvert_exporter": "python",
      "pygments_lexer": "ipython3",
      "version": "3.11.8"
    }
  },
  "nbformat": 4,
  "nbformat_minor": 0
}