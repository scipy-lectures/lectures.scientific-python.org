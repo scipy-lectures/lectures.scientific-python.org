{
  "cells": [
    {
      "cell_type": "markdown",
      "metadata": {},
      "source": [
        "\n# Cumulative wind speed prediction\n\nGenerate the image cumulative-wind-speed-prediction.png\nfor the interpolate section of scipy.rst.\n"
      ]
    },
    {
      "cell_type": "code",
      "execution_count": null,
      "metadata": {
        "collapsed": false
      },
      "outputs": [],
      "source": [
        "import numpy as np\nimport scipy as sp\nimport matplotlib.pyplot as plt\n\nmax_speeds = np.load(\"max-speeds.npy\")\nyears_nb = max_speeds.shape[0]\n\ncprob = (np.arange(years_nb, dtype=np.float32) + 1) / (years_nb + 1)\nsorted_max_speeds = np.sort(max_speeds)\nspeed_spline = sp.interpolate.UnivariateSpline(cprob, sorted_max_speeds)\nnprob = np.linspace(0, 1, 100)\nfitted_max_speeds = speed_spline(nprob)\n\nfifty_prob = 1.0 - 0.02\nfifty_wind = speed_spline(fifty_prob)\n\nplt.figure()\nplt.plot(sorted_max_speeds, cprob, \"o\")\nplt.plot(fitted_max_speeds, nprob, \"g--\")\nplt.plot([fifty_wind], [fifty_prob], \"o\", ms=8.0, mfc=\"y\", mec=\"y\")\nplt.text(30, 0.05, r\"$V_{50} = %.2f \\, m/s$\" % fifty_wind)\nplt.plot([fifty_wind, fifty_wind], [plt.axis()[2], fifty_prob], \"k--\")\nplt.xlabel(\"Annual wind speed maxima [$m/s$]\")\nplt.ylabel(\"Cumulative probability\")"
      ]
    }
  ],
  "metadata": {
    "kernelspec": {
      "display_name": "Python 3",
      "language": "python",
      "name": "python3"
    },
    "language_info": {
      "codemirror_mode": {
        "name": "ipython",
        "version": 3
      },
      "file_extension": ".py",
      "mimetype": "text/x-python",
      "name": "python",
      "nbconvert_exporter": "python",
      "pygments_lexer": "ipython3",
      "version": "3.11.8"
    }
  },
  "nbformat": 4,
  "nbformat_minor": 0
}