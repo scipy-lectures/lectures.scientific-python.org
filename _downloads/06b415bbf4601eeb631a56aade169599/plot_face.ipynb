{
  "cells": [
    {
      "cell_type": "markdown",
      "metadata": {},
      "source": [
        "\n# Displaying a Raccoon Face\n\nSmall example to plot a raccoon face.\n"
      ]
    },
    {
      "cell_type": "code",
      "execution_count": null,
      "metadata": {
        "collapsed": false
      },
      "outputs": [],
      "source": [
        "import scipy as sp\nimport imageio.v3 as iio\n\nf = sp.datasets.face()\niio.imwrite(\"face.png\", f)  # uses the Image module (PIL)\n\nimport matplotlib.pyplot as plt\n\nplt.imshow(f)\nplt.show()"
      ]
    }
  ],
  "metadata": {
    "kernelspec": {
      "display_name": "Python 3",
      "language": "python",
      "name": "python3"
    },
    "language_info": {
      "codemirror_mode": {
        "name": "ipython",
        "version": 3
      },
      "file_extension": ".py",
      "mimetype": "text/x-python",
      "name": "python",
      "nbconvert_exporter": "python",
      "pygments_lexer": "ipython3",
      "version": "3.11.8"
    }
  },
  "nbformat": 4,
  "nbformat_minor": 0
}