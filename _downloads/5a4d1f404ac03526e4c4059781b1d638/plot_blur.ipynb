{
  "cells": [
    {
      "cell_type": "markdown",
      "metadata": {},
      "source": [
        "\n# Blurring of images\n\nAn example showing various processes that blur an image.\n"
      ]
    },
    {
      "cell_type": "code",
      "execution_count": null,
      "metadata": {
        "collapsed": false
      },
      "outputs": [],
      "source": [
        "import scipy as sp\nimport matplotlib.pyplot as plt\n\nface = sp.datasets.face(gray=True)\nblurred_face = sp.ndimage.gaussian_filter(face, sigma=3)\nvery_blurred = sp.ndimage.gaussian_filter(face, sigma=5)\nlocal_mean = sp.ndimage.uniform_filter(face, size=11)\n\nplt.figure(figsize=(9, 3))\nplt.subplot(131)\nplt.imshow(blurred_face, cmap=plt.cm.gray)\nplt.axis(\"off\")\nplt.subplot(132)\nplt.imshow(very_blurred, cmap=plt.cm.gray)\nplt.axis(\"off\")\nplt.subplot(133)\nplt.imshow(local_mean, cmap=plt.cm.gray)\nplt.axis(\"off\")\n\nplt.subplots_adjust(wspace=0, hspace=0.0, top=0.99, bottom=0.01, left=0.01, right=0.99)\n\nplt.show()"
      ]
    }
  ],
  "metadata": {
    "kernelspec": {
      "display_name": "Python 3",
      "language": "python",
      "name": "python3"
    },
    "language_info": {
      "codemirror_mode": {
        "name": "ipython",
        "version": 3
      },
      "file_extension": ".py",
      "mimetype": "text/x-python",
      "name": "python",
      "nbconvert_exporter": "python",
      "pygments_lexer": "ipython3",
      "version": "3.11.8"
    }
  },
  "nbformat": 4,
  "nbformat_minor": 0
}