{
  "cells": [
    {
      "cell_type": "markdown",
      "metadata": {},
      "source": [
        "\n# Plot filtering on images\n\nDemo filtering for denoising of images.\n"
      ]
    },
    {
      "cell_type": "code",
      "execution_count": null,
      "metadata": {
        "collapsed": false
      },
      "outputs": [],
      "source": [
        "# Load some data\nimport scipy as sp\n\nface = sp.datasets.face(gray=True)\nface = face[:512, -512:]  # crop out square on right\n\n# Apply a variety of filters\nimport matplotlib.pyplot as plt\n\nimport numpy as np\n\nnoisy_face = np.copy(face).astype(float)\nrng = np.random.default_rng()\nnoisy_face += face.std() * 0.5 * rng.standard_normal(face.shape)\nblurred_face = sp.ndimage.gaussian_filter(noisy_face, sigma=3)\nmedian_face = sp.ndimage.median_filter(noisy_face, size=5)\nwiener_face = sp.signal.wiener(noisy_face, (5, 5))\n\nplt.figure(figsize=(12, 3.5))\nplt.subplot(141)\nplt.imshow(noisy_face, cmap=plt.cm.gray)\nplt.axis(\"off\")\nplt.title(\"noisy\")\n\nplt.subplot(142)\nplt.imshow(blurred_face, cmap=plt.cm.gray)\nplt.axis(\"off\")\nplt.title(\"Gaussian filter\")\n\nplt.subplot(143)\nplt.imshow(median_face, cmap=plt.cm.gray)\nplt.axis(\"off\")\nplt.title(\"median filter\")\n\nplt.subplot(144)\nplt.imshow(wiener_face, cmap=plt.cm.gray)\nplt.title(\"Wiener filter\")\nplt.axis(\"off\")\n\nplt.subplots_adjust(wspace=0.05, left=0.01, bottom=0.01, right=0.99, top=0.99)\n\nplt.show()"
      ]
    }
  ],
  "metadata": {
    "kernelspec": {
      "display_name": "Python 3",
      "language": "python",
      "name": "python3"
    },
    "language_info": {
      "codemirror_mode": {
        "name": "ipython",
        "version": 3
      },
      "file_extension": ".py",
      "mimetype": "text/x-python",
      "name": "python",
      "nbconvert_exporter": "python",
      "pygments_lexer": "ipython3",
      "version": "3.11.8"
    }
  },
  "nbformat": 4,
  "nbformat_minor": 0
}