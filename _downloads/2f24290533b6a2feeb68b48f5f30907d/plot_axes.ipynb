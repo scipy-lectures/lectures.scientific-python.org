{
  "cells": [
    {
      "cell_type": "markdown",
      "metadata": {},
      "source": [
        "\n# Simple axes example\n\nThis example shows a couple of simple usage of axes.\n"
      ]
    },
    {
      "cell_type": "code",
      "execution_count": null,
      "metadata": {
        "collapsed": false
      },
      "outputs": [],
      "source": [
        "import matplotlib.pyplot as plt\n\nplt.axes([0.1, 0.1, 0.8, 0.8])\nplt.xticks([])\nplt.yticks([])\nplt.text(\n    0.6, 0.6, \"axes([0.1, 0.1, 0.8, 0.8])\", ha=\"center\", va=\"center\", size=20, alpha=0.5\n)\n\nplt.axes([0.2, 0.2, 0.3, 0.3])\nplt.xticks([])\nplt.yticks([])\nplt.text(\n    0.5, 0.5, \"axes([0.2, 0.2, 0.3, 0.3])\", ha=\"center\", va=\"center\", size=16, alpha=0.5\n)\n\nplt.show()"
      ]
    }
  ],
  "metadata": {
    "kernelspec": {
      "display_name": "Python 3",
      "language": "python",
      "name": "python3"
    },
    "language_info": {
      "codemirror_mode": {
        "name": "ipython",
        "version": 3
      },
      "file_extension": ".py",
      "mimetype": "text/x-python",
      "name": "python",
      "nbconvert_exporter": "python",
      "pygments_lexer": "ipython3",
      "version": "3.11.8"
    }
  },
  "nbformat": 4,
  "nbformat_minor": 0
}