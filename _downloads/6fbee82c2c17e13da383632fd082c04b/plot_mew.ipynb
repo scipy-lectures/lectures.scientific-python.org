{
  "cells": [
    {
      "cell_type": "markdown",
      "metadata": {},
      "source": [
        "\n# Marker edge width\n\nDemo the marker edge widths of matplotlib's markers.\n"
      ]
    },
    {
      "cell_type": "code",
      "execution_count": null,
      "metadata": {
        "collapsed": false
      },
      "outputs": [],
      "source": [
        "import matplotlib.pyplot as plt\n\nsize = 256, 16\ndpi = 72.0\nfigsize = size[0] / float(dpi), size[1] / float(dpi)\nfig = plt.figure(figsize=figsize, dpi=dpi)\nfig.patch.set_alpha(0)\nplt.axes([0, 0, 1, 1], frameon=False)\n\nfor i in range(1, 11):\n    plt.plot(\n        [\n            i,\n        ],\n        [\n            1,\n        ],\n        \"s\",\n        markersize=5,\n        markeredgewidth=1 + i / 10.0,\n        markeredgecolor=\"k\",\n        markerfacecolor=\"w\",\n    )\nplt.xlim(0, 11)\nplt.xticks([])\nplt.yticks([])\n\nplt.show()"
      ]
    }
  ],
  "metadata": {
    "kernelspec": {
      "display_name": "Python 3",
      "language": "python",
      "name": "python3"
    },
    "language_info": {
      "codemirror_mode": {
        "name": "ipython",
        "version": 3
      },
      "file_extension": ".py",
      "mimetype": "text/x-python",
      "name": "python",
      "nbconvert_exporter": "python",
      "pygments_lexer": "ipython3",
      "version": "3.11.8"
    }
  },
  "nbformat": 4,
  "nbformat_minor": 0
}