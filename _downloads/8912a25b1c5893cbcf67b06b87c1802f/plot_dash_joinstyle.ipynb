{
  "cells": [
    {
      "cell_type": "markdown",
      "metadata": {},
      "source": [
        "\n# Dash join style\n\nExample demoing the dash join style.\n"
      ]
    },
    {
      "cell_type": "code",
      "execution_count": null,
      "metadata": {
        "collapsed": false
      },
      "outputs": [],
      "source": [
        "import numpy as np\nimport matplotlib.pyplot as plt\n\nsize = 256, 16\ndpi = 72.0\nfigsize = size[0] / float(dpi), size[1] / float(dpi)\nfig = plt.figure(figsize=figsize, dpi=dpi)\nfig.patch.set_alpha(0)\nplt.axes([0, 0, 1, 1], frameon=False)\n\nplt.plot(\n    np.arange(3),\n    [0, 1, 0],\n    color=\"blue\",\n    dashes=[12, 5],\n    linewidth=8,\n    dash_joinstyle=\"miter\",\n)\nplt.plot(\n    4 + np.arange(3),\n    [0, 1, 0],\n    color=\"blue\",\n    dashes=[12, 5],\n    linewidth=8,\n    dash_joinstyle=\"bevel\",\n)\nplt.plot(\n    8 + np.arange(3),\n    [0, 1, 0],\n    color=\"blue\",\n    dashes=[12, 5],\n    linewidth=8,\n    dash_joinstyle=\"round\",\n)\n\nplt.xlim(0, 12)\nplt.ylim(-1, 2)\nplt.xticks([])\nplt.yticks([])\n\nplt.show()"
      ]
    }
  ],
  "metadata": {
    "kernelspec": {
      "display_name": "Python 3",
      "language": "python",
      "name": "python3"
    },
    "language_info": {
      "codemirror_mode": {
        "name": "ipython",
        "version": 3
      },
      "file_extension": ".py",
      "mimetype": "text/x-python",
      "name": "python",
      "nbconvert_exporter": "python",
      "pygments_lexer": "ipython3",
      "version": "3.11.8"
    }
  },
  "nbformat": 4,
  "nbformat_minor": 0
}