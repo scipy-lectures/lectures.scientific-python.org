{
  "cells": [
    {
      "cell_type": "markdown",
      "metadata": {},
      "source": [
        "\n# Labelling connected components of an image\n\nThis example shows how to label connected components of a binary image, using\nthe dedicated skimage.measure.label function.\n"
      ]
    },
    {
      "cell_type": "code",
      "execution_count": null,
      "metadata": {
        "collapsed": false
      },
      "outputs": [],
      "source": [
        "from skimage import measure\nfrom skimage import filters\nimport matplotlib.pyplot as plt\nimport numpy as np\n\nn = 12\nl = 256\nrng = np.random.default_rng(27446968)\nim = np.zeros((l, l))\npoints = l * rng.random((2, n**2))\nim[(points[0]).astype(int), (points[1]).astype(int)] = 1\nim = filters.gaussian(im, sigma=l / (4.0 * n))\nblobs = im > 0.7 * im.mean()\n\nall_labels = measure.label(blobs)\nblobs_labels = measure.label(blobs, background=0)\n\nplt.figure(figsize=(9, 3.5))\nplt.subplot(131)\nplt.imshow(blobs, cmap=\"gray\")\nplt.axis(\"off\")\nplt.subplot(132)\nplt.imshow(all_labels, cmap=\"nipy_spectral\")\nplt.axis(\"off\")\nplt.subplot(133)\nplt.imshow(blobs_labels, cmap=\"nipy_spectral\")\nplt.axis(\"off\")\n\nplt.tight_layout()\nplt.show()"
      ]
    }
  ],
  "metadata": {
    "kernelspec": {
      "display_name": "Python 3",
      "language": "python",
      "name": "python3"
    },
    "language_info": {
      "codemirror_mode": {
        "name": "ipython",
        "version": 3
      },
      "file_extension": ".py",
      "mimetype": "text/x-python",
      "name": "python",
      "nbconvert_exporter": "python",
      "pygments_lexer": "ipython3",
      "version": "3.11.8"
    }
  },
  "nbformat": 4,
  "nbformat_minor": 0
}