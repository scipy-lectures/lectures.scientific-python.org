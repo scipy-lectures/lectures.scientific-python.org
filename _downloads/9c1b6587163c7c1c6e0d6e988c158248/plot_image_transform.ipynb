{
  "cells": [
    {
      "cell_type": "markdown",
      "metadata": {},
      "source": [
        "\n# Plot geometrical transformations on images\n\nDemo geometrical transformations of images.\n"
      ]
    },
    {
      "cell_type": "code",
      "execution_count": null,
      "metadata": {
        "collapsed": false
      },
      "outputs": [],
      "source": [
        "# Load some data\nimport scipy as sp\n\nface = sp.datasets.face(gray=True)\n\n# Apply a variety of transformations\nimport matplotlib.pyplot as plt\n\nshifted_face = sp.ndimage.shift(face, (50, 50))\nshifted_face2 = sp.ndimage.shift(face, (50, 50), mode=\"nearest\")\nrotated_face = sp.ndimage.rotate(face, 30)\ncropped_face = face[50:-50, 50:-50]\nzoomed_face = sp.ndimage.zoom(face, 2)\nzoomed_face.shape\n\nplt.figure(figsize=(15, 3))\nplt.subplot(151)\nplt.imshow(shifted_face, cmap=plt.cm.gray)\nplt.axis(\"off\")\n\nplt.subplot(152)\nplt.imshow(shifted_face2, cmap=plt.cm.gray)\nplt.axis(\"off\")\n\nplt.subplot(153)\nplt.imshow(rotated_face, cmap=plt.cm.gray)\nplt.axis(\"off\")\n\nplt.subplot(154)\nplt.imshow(cropped_face, cmap=plt.cm.gray)\nplt.axis(\"off\")\n\nplt.subplot(155)\nplt.imshow(zoomed_face, cmap=plt.cm.gray)\nplt.axis(\"off\")\n\nplt.subplots_adjust(wspace=0.05, left=0.01, bottom=0.01, right=0.99, top=0.99)\n\nplt.show()"
      ]
    }
  ],
  "metadata": {
    "kernelspec": {
      "display_name": "Python 3",
      "language": "python",
      "name": "python3"
    },
    "language_info": {
      "codemirror_mode": {
        "name": "ipython",
        "version": 3
      },
      "file_extension": ".py",
      "mimetype": "text/x-python",
      "name": "python",
      "nbconvert_exporter": "python",
      "pygments_lexer": "ipython3",
      "version": "3.11.8"
    }
  },
  "nbformat": 4,
  "nbformat_minor": 0
}