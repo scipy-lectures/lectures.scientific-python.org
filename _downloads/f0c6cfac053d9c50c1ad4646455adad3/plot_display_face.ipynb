{
  "cells": [
    {
      "cell_type": "markdown",
      "metadata": {},
      "source": [
        "\n# Display a Raccoon Face\n\nAn example that displays a raccoon face with matplotlib.\n"
      ]
    },
    {
      "cell_type": "code",
      "execution_count": null,
      "metadata": {
        "collapsed": false
      },
      "outputs": [],
      "source": [
        "import scipy as sp\nimport matplotlib.pyplot as plt\n\nf = sp.datasets.face(gray=True)\n\nplt.figure(figsize=(10, 3.6))\n\nplt.subplot(131)\nplt.imshow(f, cmap=plt.cm.gray)\n\nplt.subplot(132)\nplt.imshow(f, cmap=plt.cm.gray, vmin=30, vmax=200)\nplt.axis(\"off\")\n\nplt.subplot(133)\nplt.imshow(f, cmap=plt.cm.gray)\nplt.contour(f, [50, 200])\nplt.axis(\"off\")\n\nplt.subplots_adjust(wspace=0, hspace=0.0, top=0.99, bottom=0.01, left=0.05, right=0.99)\nplt.show()"
      ]
    }
  ],
  "metadata": {
    "kernelspec": {
      "display_name": "Python 3",
      "language": "python",
      "name": "python3"
    },
    "language_info": {
      "codemirror_mode": {
        "name": "ipython",
        "version": 3
      },
      "file_extension": ".py",
      "mimetype": "text/x-python",
      "name": "python",
      "nbconvert_exporter": "python",
      "pygments_lexer": "ipython3",
      "version": "3.11.8"
    }
  },
  "nbformat": 4,
  "nbformat_minor": 0
}