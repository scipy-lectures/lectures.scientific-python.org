{
  "cells": [
    {
      "cell_type": "markdown",
      "metadata": {},
      "source": [
        "\n# Linestyles\n\nPlot the different line styles.\n"
      ]
    },
    {
      "cell_type": "code",
      "execution_count": null,
      "metadata": {
        "collapsed": false
      },
      "outputs": [],
      "source": [
        "import numpy as np\nimport matplotlib.pyplot as plt\n\n\ndef linestyle(ls, i):\n    X = i * 0.5 * np.ones(11)\n    Y = np.arange(11)\n    plt.plot(\n        X,\n        Y,\n        ls,\n        color=(0.0, 0.0, 1, 1),\n        lw=3,\n        ms=8,\n        mfc=(0.75, 0.75, 1, 1),\n        mec=(0, 0, 1, 1),\n    )\n    plt.text(0.5 * i, 10.25, ls, rotation=90, fontsize=15, va=\"bottom\")\n\n\nlinestyles = [\n    \"-\",\n    \"--\",\n    \":\",\n    \"-.\",\n    \".\",\n    \",\",\n    \"o\",\n    \"^\",\n    \"v\",\n    \"<\",\n    \">\",\n    \"s\",\n    \"+\",\n    \"x\",\n    \"d\",\n    \"1\",\n    \"2\",\n    \"3\",\n    \"4\",\n    \"h\",\n    \"p\",\n    \"|\",\n    \"_\",\n    \"D\",\n    \"H\",\n]\nn_lines = len(linestyles)\n\nsize = 20 * n_lines, 300\ndpi = 72.0\nfigsize = size[0] / float(dpi), size[1] / float(dpi)\nfig = plt.figure(figsize=figsize, dpi=dpi)\nplt.axes([0, 0.01, 1, 0.9], frameon=False)\n\nfor i, ls in enumerate(linestyles):\n    linestyle(ls, i)\n\nplt.xlim(-0.2, 0.2 + 0.5 * n_lines)\nplt.xticks([])\nplt.yticks([])\n\nplt.show()"
      ]
    }
  ],
  "metadata": {
    "kernelspec": {
      "display_name": "Python 3",
      "language": "python",
      "name": "python3"
    },
    "language_info": {
      "codemirror_mode": {
        "name": "ipython",
        "version": 3
      },
      "file_extension": ".py",
      "mimetype": "text/x-python",
      "name": "python",
      "nbconvert_exporter": "python",
      "pygments_lexer": "ipython3",
      "version": "3.11.8"
    }
  },
  "nbformat": 4,
  "nbformat_minor": 0
}