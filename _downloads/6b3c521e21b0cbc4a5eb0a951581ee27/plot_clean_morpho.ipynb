{
  "cells": [
    {
      "cell_type": "markdown",
      "metadata": {},
      "source": [
        "\n# Cleaning segmentation with mathematical morphology\n\nAn example showing how to clean segmentation with mathematical\nmorphology: removing small regions and holes.\n"
      ]
    },
    {
      "cell_type": "code",
      "execution_count": null,
      "metadata": {
        "collapsed": false
      },
      "outputs": [],
      "source": [
        "import numpy as np\nimport scipy as sp\nimport matplotlib.pyplot as plt\n\nrng = np.random.default_rng(27446968)\nn = 10\nl = 256\nim = np.zeros((l, l))\npoints = l * rng.random((2, n**2))\nim[(points[0]).astype(int), (points[1]).astype(int)] = 1\nim = sp.ndimage.gaussian_filter(im, sigma=l / (4.0 * n))\n\nmask = (im > im.mean()).astype(float)\n\n\nimg = mask + 0.3 * rng.normal(size=mask.shape)\n\nbinary_img = img > 0.5\n\n# Remove small white regions\nopen_img = sp.ndimage.binary_opening(binary_img)\n# Remove small black hole\nclose_img = sp.ndimage.binary_closing(open_img)\n\nplt.figure(figsize=(12, 3))\n\nl = 128\n\nplt.subplot(141)\nplt.imshow(binary_img[:l, :l], cmap=plt.cm.gray)\nplt.axis(\"off\")\nplt.subplot(142)\nplt.imshow(open_img[:l, :l], cmap=plt.cm.gray)\nplt.axis(\"off\")\nplt.subplot(143)\nplt.imshow(close_img[:l, :l], cmap=plt.cm.gray)\nplt.axis(\"off\")\nplt.subplot(144)\nplt.imshow(mask[:l, :l], cmap=plt.cm.gray)\nplt.contour(close_img[:l, :l], [0.5], linewidths=2, colors=\"r\")\nplt.axis(\"off\")\n\nplt.subplots_adjust(wspace=0.02, hspace=0.3, top=1, bottom=0.1, left=0, right=1)\n\nplt.show()"
      ]
    }
  ],
  "metadata": {
    "kernelspec": {
      "display_name": "Python 3",
      "language": "python",
      "name": "python3"
    },
    "language_info": {
      "codemirror_mode": {
        "name": "ipython",
        "version": 3
      },
      "file_extension": ".py",
      "mimetype": "text/x-python",
      "name": "python",
      "nbconvert_exporter": "python",
      "pygments_lexer": "ipython3",
      "version": "3.11.8"
    }
  },
  "nbformat": 4,
  "nbformat_minor": 0
}