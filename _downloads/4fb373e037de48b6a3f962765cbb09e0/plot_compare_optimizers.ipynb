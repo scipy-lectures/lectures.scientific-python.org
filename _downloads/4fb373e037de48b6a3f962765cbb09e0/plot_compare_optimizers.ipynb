{
  "cells": [
    {
      "cell_type": "markdown",
      "metadata": {},
      "source": [
        "\n# Plotting the comparison of optimizers\n\nPlots the results from the comparison of optimizers.\n"
      ]
    },
    {
      "cell_type": "code",
      "execution_count": null,
      "metadata": {
        "collapsed": false
      },
      "outputs": [],
      "source": [
        "import pickle\nimport sys\n\nimport numpy as np\nimport matplotlib.pyplot as plt\n\nresults = pickle.load(\n    open(f\"helper/compare_optimizers_py{sys.version_info[0]}.pkl\", \"rb\")\n)\nn_methods = len(list(results.values())[0][\"Rosenbrock  \"])\nn_dims = len(results)\n\nsymbols = \"o>*Ds\"\n\nplt.figure(1, figsize=(10, 4))\nplt.clf()\n\ncolors = plt.cm.nipy_spectral(np.linspace(0, 1, n_dims))[:, :3]\n\nmethod_names = list(list(results.values())[0][\"Rosenbrock  \"].keys())\nmethod_names.sort(key=lambda x: x[::-1], reverse=True)\n\nfor n_dim_index, ((n_dim, n_dim_bench), color) in enumerate(\n    zip(sorted(results.items()), colors)\n):\n    for (cost_name, cost_bench), symbol in zip(sorted(n_dim_bench.items()), symbols):\n        for (\n            method_index,\n            method_name,\n        ) in enumerate(method_names):\n            this_bench = cost_bench[method_name]\n            bench = np.mean(this_bench)\n            plt.semilogy(\n                [\n                    method_index + 0.1 * n_dim_index,\n                ],\n                [\n                    bench,\n                ],\n                marker=symbol,\n                color=color,\n            )\n\n# Create a legend for the problem type\nfor cost_name, symbol in zip(sorted(n_dim_bench.keys()), symbols):\n    plt.semilogy(\n        [\n            -10,\n        ],\n        [\n            0,\n        ],\n        symbol,\n        color=\".5\",\n        label=cost_name,\n    )\n\nplt.xticks(np.arange(n_methods), method_names, size=11)\nplt.xlim(-0.2, n_methods - 0.5)\nplt.legend(loc=\"best\", numpoints=1, handletextpad=0, prop={\"size\": 12}, frameon=False)\nplt.ylabel(\"# function calls (a.u.)\")\n\n# Create a second legend for the problem dimensionality\nplt.twinx()\n\nfor n_dim, color in zip(sorted(results.keys()), colors):\n    plt.plot(\n        [\n            -10,\n        ],\n        [\n            0,\n        ],\n        \"o\",\n        color=color,\n        label=\"# dim: %i\" % n_dim,\n    )\nplt.legend(\n    loc=(0.47, 0.07),\n    numpoints=1,\n    handletextpad=0,\n    prop={\"size\": 12},\n    frameon=False,\n    ncol=2,\n)\nplt.xlim(-0.2, n_methods - 0.5)\n\nplt.xticks(np.arange(n_methods), method_names)\nplt.yticks(())\n\nplt.tight_layout()\nplt.show()"
      ]
    }
  ],
  "metadata": {
    "kernelspec": {
      "display_name": "Python 3",
      "language": "python",
      "name": "python3"
    },
    "language_info": {
      "codemirror_mode": {
        "name": "ipython",
        "version": 3
      },
      "file_extension": ".py",
      "mimetype": "text/x-python",
      "name": "python",
      "nbconvert_exporter": "python",
      "pygments_lexer": "ipython3",
      "version": "3.11.8"
    }
  },
  "nbformat": 4,
  "nbformat_minor": 0
}