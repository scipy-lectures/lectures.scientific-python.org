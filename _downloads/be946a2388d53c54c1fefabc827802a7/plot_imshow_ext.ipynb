{
  "cells": [
    {
      "cell_type": "markdown",
      "metadata": {},
      "source": [
        "\n# Imshow demo\n\nDemoing imshow\n"
      ]
    },
    {
      "cell_type": "code",
      "execution_count": null,
      "metadata": {
        "collapsed": false
      },
      "outputs": [],
      "source": [
        "import numpy as np\nimport matplotlib.pyplot as plt\n\n\ndef f(x, y):\n    return (1 - x / 2 + x**5 + y**3) * np.exp(-(x**2) - y**2)\n\n\nn = 10\nx = np.linspace(-3, 3, 8 * n)\ny = np.linspace(-3, 3, 6 * n)\nX, Y = np.meshgrid(x, y)\nZ = f(X, Y)\nplt.imshow(Z, interpolation=\"nearest\", cmap=\"bone\", origin=\"lower\")\nplt.xticks([])\nplt.yticks([])\n\n\n# Add a title and a box around it\nfrom matplotlib.patches import FancyBboxPatch\n\nax = plt.gca()\nax.add_patch(\n    FancyBboxPatch(\n        (-0.05, 0.87),\n        width=0.66,\n        height=0.165,\n        clip_on=False,\n        boxstyle=\"square,pad=0\",\n        zorder=3,\n        facecolor=\"white\",\n        alpha=1.0,\n        transform=plt.gca().transAxes,\n    )\n)\n\nplt.text(\n    -0.05,\n    1.02,\n    \" Imshow:       plt.imshow(...)\\n\",\n    horizontalalignment=\"left\",\n    verticalalignment=\"top\",\n    size=\"xx-large\",\n    transform=plt.gca().transAxes,\n)\n\nplt.text(\n    -0.05,\n    1.01,\n    \"\\n\\n   Display an image to current axes \",\n    horizontalalignment=\"left\",\n    verticalalignment=\"top\",\n    family=\"DejaVu Sans\",\n    size=\"large\",\n    transform=plt.gca().transAxes,\n)\n\nplt.show()"
      ]
    }
  ],
  "metadata": {
    "kernelspec": {
      "display_name": "Python 3",
      "language": "python",
      "name": "python3"
    },
    "language_info": {
      "codemirror_mode": {
        "name": "ipython",
        "version": 3
      },
      "file_extension": ".py",
      "mimetype": "text/x-python",
      "name": "python",
      "nbconvert_exporter": "python",
      "pygments_lexer": "ipython3",
      "version": "3.11.8"
    }
  },
  "nbformat": 4,
  "nbformat_minor": 0
}