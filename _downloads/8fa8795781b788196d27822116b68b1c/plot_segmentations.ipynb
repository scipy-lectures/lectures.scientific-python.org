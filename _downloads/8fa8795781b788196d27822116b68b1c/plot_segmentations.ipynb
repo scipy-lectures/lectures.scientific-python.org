{
  "cells": [
    {
      "cell_type": "markdown",
      "metadata": {},
      "source": [
        "\n# Watershed and random walker for segmentation\n\nThis example compares two segmentation methods in order to separate two\nconnected disks: the watershed algorithm, and the random walker algorithm.\n\nBoth segmentation methods require seeds, that are pixels belonging\nunambigusouly to a reagion. Here, local maxima of the distance map to the\nbackground are used as seeds.\n"
      ]
    },
    {
      "cell_type": "code",
      "execution_count": null,
      "metadata": {
        "collapsed": false
      },
      "outputs": [],
      "source": [
        "import numpy as np\nfrom skimage.segmentation import watershed\nfrom skimage.feature import peak_local_max\nfrom skimage import measure\nfrom skimage.segmentation import random_walker\nimport matplotlib.pyplot as plt\nimport scipy as sp\n\n# Generate an initial image with two overlapping circles\nx, y = np.indices((80, 80))\nx1, y1, x2, y2 = 28, 28, 44, 52\nr1, r2 = 16, 20\nmask_circle1 = (x - x1) ** 2 + (y - y1) ** 2 < r1**2\nmask_circle2 = (x - x2) ** 2 + (y - y2) ** 2 < r2**2\nimage = np.logical_or(mask_circle1, mask_circle2)\n# Now we want to separate the two objects in image\n# Generate the markers as local maxima of the distance\n# to the background\ndistance = sp.ndimage.distance_transform_edt(image)\npeak_idx = peak_local_max(distance, footprint=np.ones((3, 3)), labels=image)\npeak_mask = np.zeros_like(distance, dtype=bool)\npeak_mask[tuple(peak_idx.T)] = True\nmarkers = measure.label(peak_mask)\nlabels_ws = watershed(-distance, markers, mask=image)\n\nmarkers[~image] = -1\nlabels_rw = random_walker(image, markers)\n\nplt.figure(figsize=(12, 3.5))\nplt.subplot(141)\nplt.imshow(image, cmap=\"gray\", interpolation=\"nearest\")\nplt.axis(\"off\")\nplt.title(\"image\")\nplt.subplot(142)\nplt.imshow(-distance, interpolation=\"nearest\")\nplt.axis(\"off\")\nplt.title(\"distance map\")\nplt.subplot(143)\nplt.imshow(labels_ws, cmap=\"nipy_spectral\", interpolation=\"nearest\")\nplt.axis(\"off\")\nplt.title(\"watershed segmentation\")\nplt.subplot(144)\nplt.imshow(labels_rw, cmap=\"nipy_spectral\", interpolation=\"nearest\")\nplt.axis(\"off\")\nplt.title(\"random walker segmentation\")\n\nplt.tight_layout()\nplt.show()"
      ]
    }
  ],
  "metadata": {
    "kernelspec": {
      "display_name": "Python 3",
      "language": "python",
      "name": "python3"
    },
    "language_info": {
      "codemirror_mode": {
        "name": "ipython",
        "version": 3
      },
      "file_extension": ".py",
      "mimetype": "text/x-python",
      "name": "python",
      "nbconvert_exporter": "python",
      "pygments_lexer": "ipython3",
      "version": "3.11.8"
    }
  },
  "nbformat": 4,
  "nbformat_minor": 0
}