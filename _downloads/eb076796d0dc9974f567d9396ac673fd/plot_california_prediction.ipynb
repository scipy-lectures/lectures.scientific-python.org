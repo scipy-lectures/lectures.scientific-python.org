{
  "cells": [
    {
      "cell_type": "markdown",
      "metadata": {},
      "source": [
        "\n# A simple regression analysis on the California housing data\n\nHere we perform a simple regression analysis on the California housing\ndata, exploring two types of regressors.\n"
      ]
    },
    {
      "cell_type": "code",
      "execution_count": null,
      "metadata": {
        "collapsed": false
      },
      "outputs": [],
      "source": [
        "from sklearn.datasets import fetch_california_housing\n\ndata = fetch_california_housing(as_frame=True)"
      ]
    },
    {
      "cell_type": "markdown",
      "metadata": {},
      "source": [
        "Print a histogram of the quantity to predict: price\n\n"
      ]
    },
    {
      "cell_type": "code",
      "execution_count": null,
      "metadata": {
        "collapsed": false
      },
      "outputs": [],
      "source": [
        "import matplotlib.pyplot as plt\n\nplt.figure(figsize=(4, 3))\nplt.hist(data.target)\nplt.xlabel(\"price ($100k)\")\nplt.ylabel(\"count\")\nplt.tight_layout()"
      ]
    },
    {
      "cell_type": "markdown",
      "metadata": {},
      "source": [
        "Print the join histogram for each feature\n\n"
      ]
    },
    {
      "cell_type": "code",
      "execution_count": null,
      "metadata": {
        "collapsed": false
      },
      "outputs": [],
      "source": [
        "for index, feature_name in enumerate(data.feature_names):\n    plt.figure(figsize=(4, 3))\n    plt.scatter(data.data[feature_name], data.target)\n    plt.ylabel(\"Price\", size=15)\n    plt.xlabel(feature_name, size=15)\n    plt.tight_layout()"
      ]
    },
    {
      "cell_type": "markdown",
      "metadata": {},
      "source": [
        "Simple prediction\n\n"
      ]
    },
    {
      "cell_type": "code",
      "execution_count": null,
      "metadata": {
        "collapsed": false
      },
      "outputs": [],
      "source": [
        "from sklearn.model_selection import train_test_split\n\nX_train, X_test, y_train, y_test = train_test_split(data.data, data.target)\n\nfrom sklearn.linear_model import LinearRegression\n\nclf = LinearRegression()\nclf.fit(X_train, y_train)\npredicted = clf.predict(X_test)\nexpected = y_test\n\nplt.figure(figsize=(4, 3))\nplt.scatter(expected, predicted)\nplt.plot([0, 8], [0, 8], \"--k\")\nplt.axis(\"tight\")\nplt.xlabel(\"True price ($100k)\")\nplt.ylabel(\"Predicted price ($100k)\")\nplt.tight_layout()"
      ]
    },
    {
      "cell_type": "markdown",
      "metadata": {},
      "source": [
        "Prediction with gradient boosted tree\n\n"
      ]
    },
    {
      "cell_type": "code",
      "execution_count": null,
      "metadata": {
        "collapsed": false
      },
      "outputs": [],
      "source": [
        "from sklearn.ensemble import GradientBoostingRegressor\n\nclf = GradientBoostingRegressor()\nclf.fit(X_train, y_train)\n\npredicted = clf.predict(X_test)\nexpected = y_test\n\nplt.figure(figsize=(4, 3))\nplt.scatter(expected, predicted)\nplt.plot([0, 5], [0, 5], \"--k\")\nplt.axis(\"tight\")\nplt.xlabel(\"True price ($100k)\")\nplt.ylabel(\"Predicted price ($100k)\")\nplt.tight_layout()"
      ]
    },
    {
      "cell_type": "markdown",
      "metadata": {},
      "source": [
        "Print the error rate\n\n"
      ]
    },
    {
      "cell_type": "code",
      "execution_count": null,
      "metadata": {
        "collapsed": false
      },
      "outputs": [],
      "source": [
        "import numpy as np\n\nprint(f\"RMS: {np.sqrt(np.mean((predicted - expected) ** 2))!r} \")\n\nplt.show()"
      ]
    }
  ],
  "metadata": {
    "kernelspec": {
      "display_name": "Python 3",
      "language": "python",
      "name": "python3"
    },
    "language_info": {
      "codemirror_mode": {
        "name": "ipython",
        "version": 3
      },
      "file_extension": ".py",
      "mimetype": "text/x-python",
      "name": "python",
      "nbconvert_exporter": "python",
      "pygments_lexer": "ipython3",
      "version": "3.11.8"
    }
  },
  "nbformat": 4,
  "nbformat_minor": 0
}