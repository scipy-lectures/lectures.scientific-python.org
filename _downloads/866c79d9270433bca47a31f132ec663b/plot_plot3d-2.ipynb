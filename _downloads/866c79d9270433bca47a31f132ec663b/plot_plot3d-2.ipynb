{
  "cells": [
    {
      "cell_type": "markdown",
      "metadata": {},
      "source": [
        "\n# 3D plotting\n\nDemo 3D plotting with matplotlib and style the figure.\n"
      ]
    },
    {
      "cell_type": "code",
      "execution_count": null,
      "metadata": {
        "collapsed": false
      },
      "outputs": [],
      "source": [
        "import matplotlib.pyplot as plt\nfrom mpl_toolkits.mplot3d import axes3d\n\nax = plt.figure().add_subplot(projection=\"3d\")\nX, Y, Z = axes3d.get_test_data(0.05)\ncset = ax.contourf(X, Y, Z)\nax.clabel(cset, fontsize=9, inline=1)\n\nplt.xticks([])\nplt.yticks([])\nax.set_zticks([])\n\n\nax.text2D(\n    -0.05,\n    1.05,\n    \" 3D plots             \\n\",\n    horizontalalignment=\"left\",\n    verticalalignment=\"top\",\n    bbox={\"facecolor\": \"white\", \"alpha\": 1.0},\n    family=\"DejaVu Sans\",\n    size=\"x-large\",\n    transform=plt.gca().transAxes,\n)\n\nax.text2D(\n    -0.05,\n    0.975,\n    \" Plot 2D or 3D data\",\n    horizontalalignment=\"left\",\n    verticalalignment=\"top\",\n    family=\"DejaVu Sans\",\n    size=\"medium\",\n    transform=plt.gca().transAxes,\n)\n\nplt.show()"
      ]
    }
  ],
  "metadata": {
    "kernelspec": {
      "display_name": "Python 3",
      "language": "python",
      "name": "python3"
    },
    "language_info": {
      "codemirror_mode": {
        "name": "ipython",
        "version": 3
      },
      "file_extension": ".py",
      "mimetype": "text/x-python",
      "name": "python",
      "nbconvert_exporter": "python",
      "pygments_lexer": "ipython3",
      "version": "3.11.8"
    }
  },
  "nbformat": 4,
  "nbformat_minor": 0
}