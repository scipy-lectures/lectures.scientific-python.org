{
  "cells": [
    {
      "cell_type": "markdown",
      "metadata": {},
      "source": [
        "\n# The lidar system, data and fit (2 of 2 datasets)\n\nGenerate a chart of the data fitted by Gaussian curve\n"
      ]
    },
    {
      "cell_type": "code",
      "execution_count": null,
      "metadata": {
        "collapsed": false
      },
      "outputs": [],
      "source": [
        "import numpy as np\nimport matplotlib.pyplot as plt\nimport scipy as sp\n\n\ndef model(t, coeffs):\n    return (\n        coeffs[0]\n        + coeffs[1] * np.exp(-(((t - coeffs[2]) / coeffs[3]) ** 2))\n        + coeffs[4] * np.exp(-(((t - coeffs[5]) / coeffs[6]) ** 2))\n        + coeffs[7] * np.exp(-(((t - coeffs[8]) / coeffs[9]) ** 2))\n    )\n\n\ndef residuals(coeffs, y, t):\n    return y - model(t, coeffs)\n\n\nwaveform_2 = np.load(\"waveform_2.npy\")\nt = np.arange(len(waveform_2))\n\nx0 = np.array([3, 30, 20, 1, 12, 25, 1, 8, 28, 1], dtype=float)\nx, flag = sp.optimize.leastsq(residuals, x0, args=(waveform_2, t))\n\nfig, ax = plt.subplots(figsize=(8, 6))\nplt.plot(t, waveform_2, t, model(t, x))\nplt.xlabel(\"Time [ns]\")\nplt.ylabel(\"Amplitude [bins]\")\nplt.legend([\"Waveform\", \"Model\"])\nplt.show()"
      ]
    }
  ],
  "metadata": {
    "kernelspec": {
      "display_name": "Python 3",
      "language": "python",
      "name": "python3"
    },
    "language_info": {
      "codemirror_mode": {
        "name": "ipython",
        "version": 3
      },
      "file_extension": ".py",
      "mimetype": "text/x-python",
      "name": "python",
      "nbconvert_exporter": "python",
      "pygments_lexer": "ipython3",
      "version": "3.11.8"
    }
  },
  "nbformat": 4,
  "nbformat_minor": 0
}