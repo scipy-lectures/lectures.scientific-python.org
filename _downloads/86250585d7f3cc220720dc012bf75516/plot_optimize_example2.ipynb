{
  "cells": [
    {
      "cell_type": "markdown",
      "metadata": {},
      "source": [
        "\n# Minima and roots of a function\n\nDemos finding minima and roots of a function.\n"
      ]
    },
    {
      "cell_type": "markdown",
      "metadata": {},
      "source": [
        "## Define the function\n\n"
      ]
    },
    {
      "cell_type": "code",
      "execution_count": null,
      "metadata": {
        "collapsed": false
      },
      "outputs": [],
      "source": [
        "import numpy as np\n\nx = np.arange(-10, 10, 0.1)\n\n\ndef f(x):\n    return x**2 + 10 * np.sin(x)"
      ]
    },
    {
      "cell_type": "markdown",
      "metadata": {},
      "source": [
        "## Find minima\n\n"
      ]
    },
    {
      "cell_type": "code",
      "execution_count": null,
      "metadata": {
        "collapsed": false
      },
      "outputs": [],
      "source": [
        "import scipy as sp\n\n# Global optimization\ngrid = (-10, 10, 0.1)\nxmin_global = sp.optimize.brute(f, (grid,))\nprint(f\"Global minima found {xmin_global}\")\n\n# Constrain optimization\nxmin_local = sp.optimize.fminbound(f, 0, 10)\nprint(f\"Local minimum found {xmin_local}\")"
      ]
    },
    {
      "cell_type": "markdown",
      "metadata": {},
      "source": [
        "## Root finding\n\n"
      ]
    },
    {
      "cell_type": "code",
      "execution_count": null,
      "metadata": {
        "collapsed": false
      },
      "outputs": [],
      "source": [
        "root = sp.optimize.root(f, 1)  # our initial guess is 1\nprint(f\"First root found {root.x}\")\nroot2 = sp.optimize.root(f, -2.5)\nprint(f\"Second root found {root2.x}\")"
      ]
    },
    {
      "cell_type": "markdown",
      "metadata": {},
      "source": [
        "## Plot function, minima, and roots\n\n"
      ]
    },
    {
      "cell_type": "code",
      "execution_count": null,
      "metadata": {
        "collapsed": false
      },
      "outputs": [],
      "source": [
        "import matplotlib.pyplot as plt\n\nfig = plt.figure(figsize=(6, 4))\nax = fig.add_subplot(111)\n\n# Plot the function\nax.plot(x, f(x), \"b-\", label=\"f(x)\")\n\n# Plot the minima\nxmins = np.array([xmin_global[0], xmin_local])\nax.plot(xmins, f(xmins), \"go\", label=\"Minima\")\n\n# Plot the roots\nroots = np.array([root.x, root2.x])\nax.plot(roots, f(roots), \"kv\", label=\"Roots\")\n\n# Decorate the figure\nax.legend(loc=\"best\")\nax.set_xlabel(\"x\")\nax.set_ylabel(\"f(x)\")\nax.axhline(0, color=\"gray\")\nplt.show()"
      ]
    }
  ],
  "metadata": {
    "kernelspec": {
      "display_name": "Python 3",
      "language": "python",
      "name": "python3"
    },
    "language_info": {
      "codemirror_mode": {
        "name": "ipython",
        "version": 3
      },
      "file_extension": ".py",
      "mimetype": "text/x-python",
      "name": "python",
      "nbconvert_exporter": "python",
      "pygments_lexer": "ipython3",
      "version": "3.11.8"
    }
  },
  "nbformat": 4,
  "nbformat_minor": 0
}