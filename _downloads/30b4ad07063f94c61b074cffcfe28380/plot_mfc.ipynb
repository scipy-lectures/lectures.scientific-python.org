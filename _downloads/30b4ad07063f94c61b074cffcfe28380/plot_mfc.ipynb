{
  "cells": [
    {
      "cell_type": "markdown",
      "metadata": {},
      "source": [
        "\n# Marker face color\n\nDemo the marker face color of matplotlib's markers.\n"
      ]
    },
    {
      "cell_type": "code",
      "execution_count": null,
      "metadata": {
        "collapsed": false
      },
      "outputs": [],
      "source": [
        "import numpy as np\nimport matplotlib.pyplot as plt\n\nsize = 256, 16\ndpi = 72.0\nfigsize = size[0] / float(dpi), size[1] / float(dpi)\nfig = plt.figure(figsize=figsize, dpi=dpi)\nfig.patch.set_alpha(0)\nplt.axes([0, 0, 1, 1], frameon=False)\n\nrng = np.random.default_rng()\n\nfor i in range(1, 11):\n    r, g, b = np.random.uniform(0, 1, 3)\n    plt.plot(\n        [\n            i,\n        ],\n        [\n            1,\n        ],\n        \"s\",\n        markersize=8,\n        markerfacecolor=(r, g, b, 1),\n        markeredgewidth=0.1,\n        markeredgecolor=(0, 0, 0, 0.5),\n    )\nplt.xlim(0, 11)\nplt.xticks([])\nplt.yticks([])\nplt.show()"
      ]
    }
  ],
  "metadata": {
    "kernelspec": {
      "display_name": "Python 3",
      "language": "python",
      "name": "python3"
    },
    "language_info": {
      "codemirror_mode": {
        "name": "ipython",
        "version": 3
      },
      "file_extension": ".py",
      "mimetype": "text/x-python",
      "name": "python",
      "nbconvert_exporter": "python",
      "pygments_lexer": "ipython3",
      "version": "3.11.8"
    }
  },
  "nbformat": 4,
  "nbformat_minor": 0
}