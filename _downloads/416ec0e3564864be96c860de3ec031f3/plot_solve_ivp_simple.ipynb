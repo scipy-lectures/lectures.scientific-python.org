{
  "cells": [
    {
      "cell_type": "markdown",
      "metadata": {},
      "source": [
        "\n# Integrating a simple ODE\n\nSolve the ODE dy/dt = -2y between t = 0..4, with the initial condition\ny(t=0) = 1.\n"
      ]
    },
    {
      "cell_type": "code",
      "execution_count": null,
      "metadata": {
        "collapsed": false
      },
      "outputs": [],
      "source": [
        "import numpy as np\nimport scipy as sp\nimport matplotlib.pyplot as plt\n\n\ndef f(t, y):\n    return -2 * y\n\n\nt_span = (0, 4)  # time interval\nt_eval = np.linspace(*t_span)  # times at which to evaluate `y`\ny0 = [\n    1,\n]  # initial state\nres = sp.integrate.solve_ivp(f, t_span=t_span, y0=y0, t_eval=t_eval)\n\nplt.figure(figsize=(4, 3))\nplt.plot(res.t, res.y[0])\nplt.xlabel(\"t\")\nplt.ylabel(\"y\")\nplt.title(\"Solution of Initial Value Problem\")\nplt.tight_layout()\nplt.show()"
      ]
    }
  ],
  "metadata": {
    "kernelspec": {
      "display_name": "Python 3",
      "language": "python",
      "name": "python3"
    },
    "language_info": {
      "codemirror_mode": {
        "name": "ipython",
        "version": 3
      },
      "file_extension": ".py",
      "mimetype": "text/x-python",
      "name": "python",
      "nbconvert_exporter": "python",
      "pygments_lexer": "ipython3",
      "version": "3.11.8"
    }
  },
  "nbformat": 4,
  "nbformat_minor": 0
}