{
  "cells": [
    {
      "cell_type": "markdown",
      "metadata": {},
      "source": [
        "\n# Segmentation with Gaussian mixture models\n\nThis example performs a Gaussian mixture model analysis of the image\nhistogram to find the right thresholds for separating foreground from\nbackground.\n"
      ]
    },
    {
      "cell_type": "code",
      "execution_count": null,
      "metadata": {
        "collapsed": false
      },
      "outputs": [],
      "source": [
        "import numpy as np\nimport scipy as sp\nimport matplotlib.pyplot as plt\nfrom sklearn.mixture import GaussianMixture\n\nrng = np.random.default_rng(27446968)\nn = 10\nl = 256\nim = np.zeros((l, l))\npoints = l * rng.random((2, n**2))\nim[(points[0]).astype(int), (points[1]).astype(int)] = 1\nim = sp.ndimage.gaussian_filter(im, sigma=l / (4.0 * n))\n\nmask = (im > im.mean()).astype(float)\n\n\nimg = mask + 0.3 * rng.normal(size=mask.shape)\n\nhist, bin_edges = np.histogram(img, bins=60)\nbin_centers = 0.5 * (bin_edges[:-1] + bin_edges[1:])\n\nclassif = GaussianMixture(n_components=2)\nclassif.fit(img.reshape((img.size, 1)))\n\nthreshold = np.mean(classif.means_)\nbinary_img = img > threshold\n\n\nplt.figure(figsize=(11, 4))\n\nplt.subplot(131)\nplt.imshow(img)\nplt.axis(\"off\")\nplt.subplot(132)\nplt.plot(bin_centers, hist, lw=2)\nplt.axvline(0.5, color=\"r\", ls=\"--\", lw=2)\nplt.text(0.57, 0.8, \"histogram\", fontsize=20, transform=plt.gca().transAxes)\nplt.yticks([])\nplt.subplot(133)\nplt.imshow(binary_img, cmap=plt.cm.gray, interpolation=\"nearest\")\nplt.axis(\"off\")\n\nplt.subplots_adjust(wspace=0.02, hspace=0.3, top=1, bottom=0.1, left=0, right=1)\nplt.show()"
      ]
    }
  ],
  "metadata": {
    "kernelspec": {
      "display_name": "Python 3",
      "language": "python",
      "name": "python3"
    },
    "language_info": {
      "codemirror_mode": {
        "name": "ipython",
        "version": 3
      },
      "file_extension": ".py",
      "mimetype": "text/x-python",
      "name": "python",
      "nbconvert_exporter": "python",
      "pygments_lexer": "ipython3",
      "version": "3.11.8"
    }
  },
  "nbformat": 4,
  "nbformat_minor": 0
}