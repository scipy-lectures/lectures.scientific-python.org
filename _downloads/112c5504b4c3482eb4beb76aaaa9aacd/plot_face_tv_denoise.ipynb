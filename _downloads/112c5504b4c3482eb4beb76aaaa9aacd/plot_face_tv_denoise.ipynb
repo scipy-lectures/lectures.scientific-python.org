{
  "cells": [
    {
      "cell_type": "markdown",
      "metadata": {},
      "source": [
        "\n# Total Variation denoising\n\nThis example demoes Total-Variation (TV) denoising on a Raccoon face.\n"
      ]
    },
    {
      "cell_type": "code",
      "execution_count": null,
      "metadata": {
        "collapsed": false
      },
      "outputs": [],
      "source": [
        "import numpy as np\nimport scipy as sp\nimport matplotlib.pyplot as plt\n\nfrom skimage.restoration import denoise_tv_chambolle\n\nrng = np.random.default_rng(27446968)\n\nf = sp.datasets.face(gray=True)\nf = f[230:290, 220:320]\n\nnoisy = f + 0.4 * f.std() * rng.random(f.shape)\n\ntv_denoised = denoise_tv_chambolle(noisy, weight=10)\n\n\nplt.figure(figsize=(12, 2.8))\n\nplt.subplot(131)\nplt.imshow(noisy, cmap=plt.cm.gray, vmin=40, vmax=220)\nplt.axis(\"off\")\nplt.title(\"noisy\", fontsize=20)\nplt.subplot(132)\nplt.imshow(tv_denoised, cmap=plt.cm.gray, vmin=40, vmax=220)\nplt.axis(\"off\")\nplt.title(\"TV denoising\", fontsize=20)\n\ntv_denoised = denoise_tv_chambolle(noisy, weight=50)\nplt.subplot(133)\nplt.imshow(tv_denoised, cmap=plt.cm.gray, vmin=40, vmax=220)\nplt.axis(\"off\")\nplt.title(\"(more) TV denoising\", fontsize=20)\n\nplt.subplots_adjust(wspace=0.02, hspace=0.02, top=0.9, bottom=0, left=0, right=1)\nplt.show()"
      ]
    }
  ],
  "metadata": {
    "kernelspec": {
      "display_name": "Python 3",
      "language": "python",
      "name": "python3"
    },
    "language_info": {
      "codemirror_mode": {
        "name": "ipython",
        "version": 3
      },
      "file_extension": ".py",
      "mimetype": "text/x-python",
      "name": "python",
      "nbconvert_exporter": "python",
      "pygments_lexer": "ipython3",
      "version": "3.11.8"
    }
  },
  "nbformat": 4,
  "nbformat_minor": 0
}