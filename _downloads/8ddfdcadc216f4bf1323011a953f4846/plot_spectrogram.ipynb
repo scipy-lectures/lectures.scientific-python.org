{
  "cells": [
    {
      "cell_type": "markdown",
      "metadata": {},
      "source": [
        "\n# Spectrogram, power spectral density\n\nDemo spectrogram and power spectral density on a frequency chirp.\n"
      ]
    },
    {
      "cell_type": "code",
      "execution_count": null,
      "metadata": {
        "collapsed": false
      },
      "outputs": [],
      "source": [
        "import numpy as np\nimport matplotlib.pyplot as plt"
      ]
    },
    {
      "cell_type": "markdown",
      "metadata": {},
      "source": [
        "## Generate a chirp signal\n\n"
      ]
    },
    {
      "cell_type": "code",
      "execution_count": null,
      "metadata": {
        "collapsed": false
      },
      "outputs": [],
      "source": [
        "# Seed the random number generator\nnp.random.seed(0)\n\ntime_step = 0.01\ntime_vec = np.arange(0, 70, time_step)\n\n# A signal with a small frequency chirp\nsig = np.sin(0.5 * np.pi * time_vec * (1 + 0.1 * time_vec))\n\nplt.figure(figsize=(8, 5))\nplt.plot(time_vec, sig)"
      ]
    },
    {
      "cell_type": "markdown",
      "metadata": {},
      "source": [
        "## Compute and plot the spectrogram\n\n The spectrum of the signal on consecutive time windows\n\n"
      ]
    },
    {
      "cell_type": "code",
      "execution_count": null,
      "metadata": {
        "collapsed": false
      },
      "outputs": [],
      "source": [
        "import scipy as sp\n\nfreqs, times, spectrogram = sp.signal.spectrogram(sig)\n\nplt.figure(figsize=(5, 4))\nplt.imshow(spectrogram, aspect=\"auto\", cmap=\"hot_r\", origin=\"lower\")\nplt.title(\"Spectrogram\")\nplt.ylabel(\"Frequency band\")\nplt.xlabel(\"Time window\")\nplt.tight_layout()"
      ]
    },
    {
      "cell_type": "markdown",
      "metadata": {},
      "source": [
        "## Compute and plot the power spectral density (PSD)\n\n The power of the signal per frequency band\n\n"
      ]
    },
    {
      "cell_type": "code",
      "execution_count": null,
      "metadata": {
        "collapsed": false
      },
      "outputs": [],
      "source": [
        "freqs, psd = sp.signal.welch(sig)\n\nplt.figure(figsize=(5, 4))\nplt.semilogx(freqs, psd)\nplt.title(\"PSD: power spectral density\")\nplt.xlabel(\"Frequency\")\nplt.ylabel(\"Power\")\nplt.tight_layout()"
      ]
    },
    {
      "cell_type": "code",
      "execution_count": null,
      "metadata": {
        "collapsed": false
      },
      "outputs": [],
      "source": [
        "plt.show()"
      ]
    }
  ],
  "metadata": {
    "kernelspec": {
      "display_name": "Python 3",
      "language": "python",
      "name": "python3"
    },
    "language_info": {
      "codemirror_mode": {
        "name": "ipython",
        "version": 3
      },
      "file_extension": ".py",
      "mimetype": "text/x-python",
      "name": "python",
      "nbconvert_exporter": "python",
      "pygments_lexer": "ipython3",
      "version": "3.11.8"
    }
  },
  "nbformat": 4,
  "nbformat_minor": 0
}