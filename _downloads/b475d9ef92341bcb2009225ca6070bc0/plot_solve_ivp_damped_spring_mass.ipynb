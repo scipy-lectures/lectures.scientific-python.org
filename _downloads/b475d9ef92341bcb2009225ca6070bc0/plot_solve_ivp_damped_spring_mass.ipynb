{
  "cells": [
    {
      "cell_type": "markdown",
      "metadata": {},
      "source": [
        "\n# Integrate the Damped spring-mass oscillator\n"
      ]
    },
    {
      "cell_type": "code",
      "execution_count": null,
      "metadata": {
        "collapsed": false
      },
      "outputs": [],
      "source": [
        "import numpy as np\nimport scipy as sp\nimport matplotlib.pyplot as plt\n\nm = 0.5  # kg\nk = 4  # N/m\nc = 0.4  # N s/m\n\nzeta = c / (2 * m * np.sqrt(k / m))\nomega = np.sqrt(k / m)\n\n\ndef f(t, z, zeta, omega):\n    return (z[1], -zeta * omega * z[1] - omega**2 * z[0])\n\n\nt_span = (0, 10)\nt_eval = np.linspace(*t_span, 100)\nz0 = [1, 0]\nres = sp.integrate.solve_ivp(\n    f, t_span, z0, t_eval=t_eval, args=(zeta, omega), method=\"LSODA\"\n)\n\nplt.figure(figsize=(4, 3))\nplt.plot(res.t, res.y[0], label=\"y\")\nplt.plot(res.t, res.y[1], label=\"dy/dt\")\nplt.legend(loc=\"best\")\nplt.show()"
      ]
    }
  ],
  "metadata": {
    "kernelspec": {
      "display_name": "Python 3",
      "language": "python",
      "name": "python3"
    },
    "language_info": {
      "codemirror_mode": {
        "name": "ipython",
        "version": 3
      },
      "file_extension": ".py",
      "mimetype": "text/x-python",
      "name": "python",
      "nbconvert_exporter": "python",
      "pygments_lexer": "ipython3",
      "version": "3.11.8"
    }
  },
  "nbformat": 4,
  "nbformat_minor": 0
}