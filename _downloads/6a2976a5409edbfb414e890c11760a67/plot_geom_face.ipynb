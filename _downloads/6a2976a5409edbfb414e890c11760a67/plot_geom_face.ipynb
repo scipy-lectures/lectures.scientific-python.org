{
  "cells": [
    {
      "cell_type": "markdown",
      "metadata": {},
      "source": [
        "\n# Geometrical transformations\n\nThis examples demos some simple geometrical transformations on a Raccoon face.\n"
      ]
    },
    {
      "cell_type": "code",
      "execution_count": null,
      "metadata": {
        "collapsed": false
      },
      "outputs": [],
      "source": [
        "import numpy as np\nimport scipy as sp\nimport matplotlib.pyplot as plt\n\nface = sp.datasets.face(gray=True)\nlx, ly = face.shape\n# Cropping\ncrop_face = face[lx // 4 : -lx // 4, ly // 4 : -ly // 4]\n# up <-> down flip\nflip_ud_face = np.flipud(face)\n# rotation\nrotate_face = sp.ndimage.rotate(face, 45)\nrotate_face_noreshape = sp.ndimage.rotate(face, 45, reshape=False)\n\nplt.figure(figsize=(12.5, 2.5))\n\n\nplt.subplot(151)\nplt.imshow(face, cmap=plt.cm.gray)\nplt.axis(\"off\")\nplt.subplot(152)\nplt.imshow(crop_face, cmap=plt.cm.gray)\nplt.axis(\"off\")\nplt.subplot(153)\nplt.imshow(flip_ud_face, cmap=plt.cm.gray)\nplt.axis(\"off\")\nplt.subplot(154)\nplt.imshow(rotate_face, cmap=plt.cm.gray)\nplt.axis(\"off\")\nplt.subplot(155)\nplt.imshow(rotate_face_noreshape, cmap=plt.cm.gray)\nplt.axis(\"off\")\n\nplt.subplots_adjust(wspace=0.02, hspace=0.3, top=1, bottom=0.1, left=0, right=1)\n\nplt.show()"
      ]
    }
  ],
  "metadata": {
    "kernelspec": {
      "display_name": "Python 3",
      "language": "python",
      "name": "python3"
    },
    "language_info": {
      "codemirror_mode": {
        "name": "ipython",
        "version": 3
      },
      "file_extension": ".py",
      "mimetype": "text/x-python",
      "name": "python",
      "nbconvert_exporter": "python",
      "pygments_lexer": "ipython3",
      "version": "3.11.8"
    }
  },
  "nbformat": 4,
  "nbformat_minor": 0
}