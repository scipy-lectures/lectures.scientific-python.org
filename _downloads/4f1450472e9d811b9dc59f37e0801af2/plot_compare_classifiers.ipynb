{
  "cells": [
    {
      "cell_type": "markdown",
      "metadata": {},
      "source": [
        "\n# Compare classifiers on the digits data\n\nCompare the performance of a variety of classifiers on a test set for the\ndigits data.\n"
      ]
    },
    {
      "cell_type": "code",
      "execution_count": null,
      "metadata": {
        "collapsed": false
      },
      "outputs": [],
      "source": [
        "from sklearn import model_selection, datasets, metrics\nfrom sklearn.svm import LinearSVC\nfrom sklearn.naive_bayes import GaussianNB\nfrom sklearn.neighbors import KNeighborsClassifier\n\ndigits = datasets.load_digits()\nX = digits.data\ny = digits.target\nX_train, X_test, y_train, y_test = model_selection.train_test_split(\n    X, y, test_size=0.25, random_state=0\n)\n\nfor Model in [LinearSVC, GaussianNB, KNeighborsClassifier]:\n    clf = Model().fit(X_train, y_train)\n    y_pred = clf.predict(X_test)\n    print(f\"{Model.__name__}: {metrics.f1_score(y_test, y_pred, average='macro')}\")\n\nprint(\"------------------\")\n\n# test SVC loss\nfor loss in [\"hinge\", \"squared_hinge\"]:\n    clf = LinearSVC(loss=loss).fit(X_train, y_train)\n    y_pred = clf.predict(X_test)\n    print(\n        f\"LinearSVC(loss='{loss}'): {metrics.f1_score(y_test, y_pred, average='macro')}\"\n    )\n\nprint(\"-------------------\")\n\n# test the number of neighbors\nfor n_neighbors in range(1, 11):\n    clf = KNeighborsClassifier(n_neighbors=n_neighbors).fit(X_train, y_train)\n    y_pred = clf.predict(X_test)\n    print(\n        f\"KNeighbors(n_neighbors={n_neighbors}): {metrics.f1_score(y_test, y_pred, average='macro')}\"\n    )"
      ]
    }
  ],
  "metadata": {
    "kernelspec": {
      "display_name": "Python 3",
      "language": "python",
      "name": "python3"
    },
    "language_info": {
      "codemirror_mode": {
        "name": "ipython",
        "version": 3
      },
      "file_extension": ".py",
      "mimetype": "text/x-python",
      "name": "python",
      "nbconvert_exporter": "python",
      "pygments_lexer": "ipython3",
      "version": "3.11.8"
    }
  },
  "nbformat": 4,
  "nbformat_minor": 0
}