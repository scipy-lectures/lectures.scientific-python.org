{
  "cells": [
    {
      "cell_type": "markdown",
      "metadata": {},
      "source": [
        "\n# Image denoising\n\nThis example demoes image denoising on a Raccoon face.\n"
      ]
    },
    {
      "cell_type": "code",
      "execution_count": null,
      "metadata": {
        "collapsed": false
      },
      "outputs": [],
      "source": [
        "import numpy as np\nimport scipy as sp\nimport matplotlib.pyplot as plt\n\nrng = np.random.default_rng(27446968)\n\nf = sp.datasets.face(gray=True)\nf = f[230:290, 220:320]\n\nnoisy = f + 0.4 * f.std() * rng.random(f.shape)\n\ngauss_denoised = sp.ndimage.gaussian_filter(noisy, 2)\nmed_denoised = sp.ndimage.median_filter(noisy, 3)\n\n\nplt.figure(figsize=(12, 2.8))\n\nplt.subplot(131)\nplt.imshow(noisy, cmap=plt.cm.gray, vmin=40, vmax=220)\nplt.axis(\"off\")\nplt.title(\"noisy\", fontsize=20)\nplt.subplot(132)\nplt.imshow(gauss_denoised, cmap=plt.cm.gray, vmin=40, vmax=220)\nplt.axis(\"off\")\nplt.title(\"Gaussian filter\", fontsize=20)\nplt.subplot(133)\nplt.imshow(med_denoised, cmap=plt.cm.gray, vmin=40, vmax=220)\nplt.axis(\"off\")\nplt.title(\"Median filter\", fontsize=20)\n\nplt.subplots_adjust(wspace=0.02, hspace=0.02, top=0.9, bottom=0, left=0, right=1)\nplt.show()"
      ]
    }
  ],
  "metadata": {
    "kernelspec": {
      "display_name": "Python 3",
      "language": "python",
      "name": "python3"
    },
    "language_info": {
      "codemirror_mode": {
        "name": "ipython",
        "version": 3
      },
      "file_extension": ".py",
      "mimetype": "text/x-python",
      "name": "python",
      "nbconvert_exporter": "python",
      "pygments_lexer": "ipython3",
      "version": "3.11.8"
    }
  },
  "nbformat": 4,
  "nbformat_minor": 0
}