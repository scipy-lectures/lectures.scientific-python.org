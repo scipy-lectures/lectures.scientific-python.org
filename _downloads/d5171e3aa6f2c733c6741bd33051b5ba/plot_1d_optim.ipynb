{
  "cells": [
    {
      "cell_type": "markdown",
      "metadata": {},
      "source": [
        "\n# Brent's method\n\nIllustration of 1D optimization: Brent's method\n"
      ]
    },
    {
      "cell_type": "code",
      "execution_count": null,
      "metadata": {
        "collapsed": false
      },
      "outputs": [],
      "source": [
        "import numpy as np\nimport matplotlib.pyplot as plt\nimport scipy as sp\n\nx = np.linspace(-1, 3, 100)\nx_0 = np.exp(-1)\n\n\ndef f(x):\n    return (x - x_0) ** 2 + epsilon * np.exp(-5 * (x - 0.5 - x_0) ** 2)\n\n\nfor epsilon in (0, 1):\n    plt.figure(figsize=(3, 2.5))\n    plt.axes([0, 0, 1, 1])\n\n    # A convex function\n    plt.plot(x, f(x), linewidth=2)\n\n    # Apply brent method. To have access to the iteration, do this in an\n    # artificial way: allow the algorithm to iter only once\n    all_x = []\n    all_y = []\n    for iter in range(30):\n        result = sp.optimize.minimize_scalar(\n            f,\n            bracket=(-5, 2.9, 4.5),\n            method=\"Brent\",\n            options={\"maxiter\": iter},\n            tol=np.finfo(1.0).eps,\n        )\n        if result.success:\n            print(\"Converged at \", iter)\n            break\n\n        this_x = result.x\n        all_x.append(this_x)\n        all_y.append(f(this_x))\n        if iter < 6:\n            plt.text(\n                this_x - 0.05 * np.sign(this_x) - 0.05,\n                f(this_x) + 1.2 * (0.3 - iter % 2),\n                iter + 1,\n                size=12,\n            )\n\n    plt.plot(all_x[:10], all_y[:10], \"k+\", markersize=12, markeredgewidth=2)\n\n    plt.plot(all_x[-1], all_y[-1], \"rx\", markersize=12)\n    plt.axis(\"off\")\n    plt.ylim(ymin=-1, ymax=8)\n\n    plt.figure(figsize=(4, 3))\n    plt.semilogy(np.abs(all_y - all_y[-1]), linewidth=2)\n    plt.ylabel(\"Error on f(x)\")\n    plt.xlabel(\"Iteration\")\n    plt.tight_layout()\n\nplt.show()"
      ]
    }
  ],
  "metadata": {
    "kernelspec": {
      "display_name": "Python 3",
      "language": "python",
      "name": "python3"
    },
    "language_info": {
      "codemirror_mode": {
        "name": "ipython",
        "version": 3
      },
      "file_extension": ".py",
      "mimetype": "text/x-python",
      "name": "python",
      "nbconvert_exporter": "python",
      "pygments_lexer": "ipython3",
      "version": "3.11.8"
    }
  },
  "nbformat": 4,
  "nbformat_minor": 0
}